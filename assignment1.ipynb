{
 "cells": [
  {
   "cell_type": "markdown",
   "metadata": {
    "collapsed": true
   },
   "source": [
    "# Assignment 1\n",
    "#### By Hijun (Jane) Seo | 1001423284"
   ]
  },
  {
   "cell_type": "code",
   "execution_count": 1,
   "metadata": {},
   "outputs": [
    {
     "name": "stdout",
     "output_type": "stream",
     "text": [
      "Uninstalling scikit-learn-0.21.3:\n",
      "  Successfully uninstalled scikit-learn-0.21.3\n",
      "Collecting scikit-learn==0.21.3\n",
      "  Using cached https://files.pythonhosted.org/packages/1f/af/e3c3cd6f61093830059138624dbd26d938d6da1caeec5aeabe772b916069/scikit_learn-0.21.3-cp35-cp35m-manylinux1_x86_64.whl\n",
      "Requirement already satisfied: joblib>=0.11 in ./common/.virtualenv/python3/lib/python3.5/site-packages (from scikit-learn==0.21.3) (0.14.0)\n",
      "Requirement already satisfied: numpy>=1.11.0 in /usr/local/lib/python3.5/dist-packages (from scikit-learn==0.21.3) (1.14.5)\n",
      "Requirement already satisfied: scipy>=0.17.0 in /usr/local/lib/python3.5/dist-packages (from scikit-learn==0.21.3) (0.17.1)\n",
      "Installing collected packages: scikit-learn\n",
      "  Found existing installation: scikit-learn 0.19.0\n",
      "    Not uninstalling scikit-learn at /usr/local/lib/python3.5/dist-packages, outside environment /resources/common/.virtualenv/python3\n",
      "    Can't uninstall 'scikit-learn'. No files were found to uninstall.\n",
      "Successfully installed scikit-learn-0.21.3\n",
      "\u001b[33mWARNING: You are using pip version 19.3; however, version 19.3.1 is available.\n",
      "You should consider upgrading via the 'pip install --upgrade pip' command.\u001b[0m\n"
     ]
    }
   ],
   "source": [
    "import numpy as np\n",
    "import pandas as pd\n",
    "import scipy\n",
    "!pip uninstall -y scikit-learn\n",
    "!pip install scikit-learn==0.21.3\n",
    "from sklearn.impute import SimpleImputer\n",
    "from sklearn import preprocessing \n",
    "import matplotlib.pyplot as plt\n",
    "import seaborn as sns\n",
    "from sklearn.decomposition import PCA\n",
    "from sklearn.model_selection import train_test_split\n",
    "from sklearn.linear_model import LassoCV, LogisticRegression\n",
    "from sklearn.preprocessing import StandardScaler\n",
    "from sklearn.feature_selection import SelectFromModel\n",
    "from sklearn import metrics\n",
    "from sklearn.model_selection import cross_val_score, KFold\n",
    "import warnings\n",
    "warnings.filterwarnings(\"ignore\")\n",
    "from sklearn.model_selection import GridSearchCV\n",
    "from sklearn.metrics import accuracy_score,recall_score,precision_score,f1_score\n",
    "from sklearn.metrics import confusion_matrix, classification_report\n",
    "%matplotlib inline"
   ]
  },
  {
   "cell_type": "markdown",
   "metadata": {},
   "source": [
    "## 0. Data importing"
   ]
  },
  {
   "cell_type": "code",
   "execution_count": 2,
   "metadata": {},
   "outputs": [],
   "source": [
    "Salaries = pd.read_csv(\"multipleChoiceResponses.csv\", low_memory = False) \n",
    "\n",
    "# Save a copy of the original data\n",
    "original = Salaries.copy()"
   ]
  },
  {
   "cell_type": "markdown",
   "metadata": {},
   "source": [
    "## 1. Data cleaning"
   ]
  },
  {
   "cell_type": "markdown",
   "metadata": {},
   "source": [
    "### 1.1 Handling missing values within targets"
   ]
  },
  {
   "cell_type": "markdown",
   "metadata": {},
   "source": [
    "Any rows with missing target variable or where salary is not disclosed is not useful in building the model. Hence, they will be dropped."
   ]
  },
  {
   "cell_type": "code",
   "execution_count": 3,
   "metadata": {},
   "outputs": [
    {
     "data": {
      "text/plain": [
       "array(['What is your current yearly compensation (approximate $USD)?',\n",
       "       nan, '10-20,000', '0-10,000',\n",
       "       'I do not wish to disclose my approximate yearly compensation',\n",
       "       '20-30,000', '125-150,000', '30-40,000', '50-60,000',\n",
       "       '100-125,000', '90-100,000', '70-80,000', '80-90,000', '60-70,000',\n",
       "       '400-500,000', '40-50,000', '150-200,000', '500,000+',\n",
       "       '300-400,000', '200-250,000', '250-300,000'], dtype=object)"
      ]
     },
     "execution_count": 3,
     "metadata": {},
     "output_type": "execute_result"
    }
   ],
   "source": [
    "Salaries.Q9.unique()"
   ]
  },
  {
   "cell_type": "markdown",
   "metadata": {},
   "source": [
    "### Drop rows missing target variable"
   ]
  },
  {
   "cell_type": "code",
   "execution_count": 4,
   "metadata": {
    "collapsed": true
   },
   "outputs": [],
   "source": [
    "Salaries.dropna(subset=['Q9'],inplace=True) "
   ]
  },
  {
   "cell_type": "markdown",
   "metadata": {},
   "source": [
    "### Remove rows where salary is not disclosed"
   ]
  },
  {
   "cell_type": "code",
   "execution_count": 5,
   "metadata": {
    "collapsed": true
   },
   "outputs": [],
   "source": [
    "Salaries = Salaries[Salaries['Q9']!= \"I do not wish to disclose my approximate yearly compensation\"]\n",
    "\n",
    "# Save a copy of the cleaned data\n",
    "original_cleaned = Salaries.copy()"
   ]
  },
  {
   "cell_type": "markdown",
   "metadata": {},
   "source": [
    "### 1.2 Dropping irrelevant features"
   ]
  },
  {
   "cell_type": "markdown",
   "metadata": {},
   "source": [
    "I will drop the first column (Time from Start to Finish (seconds)), which is not a question and does not convey any information about the respondents."
   ]
  },
  {
   "cell_type": "code",
   "execution_count": 6,
   "metadata": {},
   "outputs": [],
   "source": [
    "Salaries = Salaries.drop('Time from Start to Finish (seconds)', axis=1)"
   ]
  },
  {
   "cell_type": "markdown",
   "metadata": {},
   "source": [
    "### 1.3 Handling missing values within features"
   ]
  },
  {
   "cell_type": "markdown",
   "metadata": {},
   "source": [
    "### Missing values for multiple-choice questions"
   ]
  },
  {
   "cell_type": "markdown",
   "metadata": {},
   "source": [
    "For some of the survey questions that were multiple-choice, if a certain answer was not selected it was set as NaN. However, this is not a missing value. In order for these NaN's to be not considered as missing, I will be replace these with a string 'N/A'.\n",
    "For example, Q6 will not be changed since all the answer choices are within the Q6 column.\n",
    "However, for Q11, there are 7 parts (8 including 'other text') each for a different answer choice so for Q11 I will be changing all NaNs to 'N/A'.\n",
    "\n",
    "Changing these NaNs to 'N/A' will not affect the result, but will make it easier to encode. Later, when the data is one-hot encoded, the column pertaining to the 'N/A' answers will be dropped, since it will be the complements of the columns of the corresponding multiple choice answers. "
   ]
  },
  {
   "cell_type": "code",
   "execution_count": 7,
   "metadata": {},
   "outputs": [],
   "source": [
    "for col in Salaries.columns:\n",
    "     if 'Part' in col:\n",
    "            if 'Selected Choice' in Salaries[col].iloc[0]:\n",
    "                Salaries[col] = Salaries[col].replace(to_replace=np.NaN, value='N/A')"
   ]
  },
  {
   "cell_type": "markdown",
   "metadata": {},
   "source": [
    "### Missing text data"
   ]
  },
  {
   "cell_type": "markdown",
   "metadata": {},
   "source": [
    "For any question with manully entered text, the text entered was not saved within the given file. Thus, all questions with manual text answers cannot be used so they will be dropped.\n",
    "\n",
    "Dropping these columns will result in loss of information. However, even if the text was available, since all manual text entries most likely differ from person to person, the columns would most likely not correlate well with salary. Thus, dropping these columns will likely lead to more accurate predictions later."
   ]
  },
  {
   "cell_type": "code",
   "execution_count": 8,
   "metadata": {},
   "outputs": [],
   "source": [
    "for col in Salaries.columns:\n",
    "    if 'Text' in str(Salaries[col].iloc[0]):\n",
    "        Salaries = Salaries.drop(col, axis=1)"
   ]
  },
  {
   "cell_type": "markdown",
   "metadata": {},
   "source": [
    "### 'Other' columns"
   ]
  },
  {
   "cell_type": "markdown",
   "metadata": {},
   "source": [
    "Columns pertaining to 'other' answers are not consistent and most likely have lots of variations. Thus, these columns with ultimately not be useful in the prediction of salaries. Hence, these columns will be removed."
   ]
  },
  {
   "cell_type": "code",
   "execution_count": 9,
   "metadata": {
    "collapsed": true
   },
   "outputs": [],
   "source": [
    "for col in Salaries.columns:\n",
    "     if 'OTHER' in col:\n",
    "            Salaries = Salaries.drop(col, axis=1)"
   ]
  },
  {
   "cell_type": "markdown",
   "metadata": {},
   "source": [
    "### Columns with > 10% missing data"
   ]
  },
  {
   "cell_type": "markdown",
   "metadata": {},
   "source": [
    "Columns with missing values for more than 10% of the data will be dropped. Dropping these columns will result in loss of information. However, even without these features, there are still many other features to make a prediction of the salary with. Furthermore, dropping these features will most likely lead to more accurate predictions since imputation of missing values for more than 10% may create unwanted bias, as mentioned in:\n",
    "\n",
    "Bennett, D. (2001). How can I deal with missing data in my study?. Australian and New Zealand Journal of Public Health, 25(5), pp.464-469.\n",
    "\n",
    "Dong, Y. and Peng, C. (2013). Principled missing data methods for researchers. SpringerPlus, 2(1).\n",
    "\n",
    "Madley-Dowd, P., Hughes, R., Tilling, K. and Heron, J. (2019). The proportion of missing data should not be used to guide decisions on multiple imputation. Journal of Clinical Epidemiology, 110, pp.63-73."
   ]
  },
  {
   "cell_type": "code",
   "execution_count": 10,
   "metadata": {},
   "outputs": [
    {
     "name": "stdout",
     "output_type": "stream",
     "text": [
      "Dropping Q12_MULTIPLE_CHOICE with 10.18794556059624 percent missing vals.\n",
      "Dropping Q17 with 28.133506156837328 percent missing vals.\n",
      "Dropping Q18 with 11.808165910563837 percent missing vals.\n",
      "Dropping Q20 with 37.38820479585224 percent missing vals.\n",
      "Dropping Q22 with 40.4601425793908 percent missing vals.\n",
      "Dropping Q23 with 12.754374594944911 percent missing vals.\n",
      "Dropping Q24 with 12.88399222294232 percent missing vals.\n",
      "Dropping Q25 with 13.052495139338948 percent missing vals.\n",
      "Dropping Q26 with 13.110823071937784 percent missing vals.\n",
      "Dropping Q32 with 33.21451717433571 percent missing vals.\n",
      "Dropping Q34_Part_1 with 23.74594944912508 percent missing vals.\n",
      "Dropping Q34_Part_2 with 23.74594944912508 percent missing vals.\n",
      "Dropping Q34_Part_3 with 23.74594944912508 percent missing vals.\n",
      "Dropping Q34_Part_4 with 23.74594944912508 percent missing vals.\n",
      "Dropping Q34_Part_5 with 23.74594944912508 percent missing vals.\n",
      "Dropping Q34_Part_6 with 23.74594944912508 percent missing vals.\n",
      "Dropping Q35_Part_1 with 24.5301360985094 percent missing vals.\n",
      "Dropping Q35_Part_2 with 24.5301360985094 percent missing vals.\n",
      "Dropping Q35_Part_3 with 24.5301360985094 percent missing vals.\n",
      "Dropping Q35_Part_4 with 24.5301360985094 percent missing vals.\n",
      "Dropping Q35_Part_5 with 24.5301360985094 percent missing vals.\n",
      "Dropping Q35_Part_6 with 24.5301360985094 percent missing vals.\n",
      "Dropping Q37 with 52.754374594944906 percent missing vals.\n",
      "Dropping Q39_Part_1 with 23.972780298120544 percent missing vals.\n",
      "Dropping Q39_Part_2 with 23.972780298120544 percent missing vals.\n",
      "Dropping Q40 with 24.38755670771225 percent missing vals.\n",
      "Dropping Q41_Part_1 with 28.204795852235904 percent missing vals.\n",
      "Dropping Q41_Part_2 with 28.204795852235904 percent missing vals.\n",
      "Dropping Q41_Part_3 with 28.204795852235904 percent missing vals.\n",
      "Dropping Q43 with 36.130913804277384 percent missing vals.\n",
      "Dropping Q44_Part_1 with 83.88852883992223 percent missing vals.\n",
      "Dropping Q44_Part_2 with 81.749837977965 percent missing vals.\n",
      "Dropping Q44_Part_3 with 74.15424497731692 percent missing vals.\n",
      "Dropping Q44_Part_4 with 77.62151652624758 percent missing vals.\n",
      "Dropping Q44_Part_5 with 97.76409591704471 percent missing vals.\n",
      "Dropping Q44_Part_6 with 80.4795852235904 percent missing vals.\n",
      "Dropping Q45_Part_1 with 92.00259235255996 percent missing vals.\n",
      "Dropping Q45_Part_2 with 76.77252106286456 percent missing vals.\n",
      "Dropping Q45_Part_3 with 72.9747245625405 percent missing vals.\n",
      "Dropping Q45_Part_4 with 71.01749837977965 percent missing vals.\n",
      "Dropping Q45_Part_5 with 72.35255994815294 percent missing vals.\n",
      "Dropping Q45_Part_6 with 93.24044069993519 percent missing vals.\n",
      "Dropping Q46 with 35.19766688269605 percent missing vals.\n",
      "Dropping Q48 with 35.093972780298124 percent missing vals.\n"
     ]
    }
   ],
   "source": [
    "dropped_q = []\n",
    "missingvalue = Salaries.isnull().sum()\n",
    "for col in missingvalue.index:\n",
    "    per_miss = missingvalue[col]/Salaries.shape[0] * 100\n",
    "    if per_miss > 10:\n",
    "        dropped_q.append(Salaries[col][0])\n",
    "        Salaries = Salaries.drop(col, axis=1)\n",
    "        print(\"Dropping\", col, \"with\", per_miss, \"percent missing vals.\")"
   ]
  },
  {
   "cell_type": "markdown",
   "metadata": {},
   "source": [
    "After reviewing the dropped features, Q12, Q17, Q18, Q20, Q22, Q32, Q34, Q35 and Q37 seem to have had > 10% missing values since there was a section for 'other text'. Although this may mean that with the corresponding 'other text' column, there would have been < 10% missing values, since the 'other text' column was not saved as text within this file, the question was taken out.\n",
    "\n",
    "Some questions may not have been even presented to the respondent since the Kaggle website mentions under Survey Methodology that \"not every question was shown to every respondent\". This may be the case for Q23, Q24, Q25, Q26, Q39, Q40, Q41, Q43, Q44, Q45, Q46, and Q48. Another reason for the missing values may be because the respondent didn't understand the question, didn't know how to best answer it, or thought it took much to time to answer the question so skipped it."
   ]
  },
  {
   "cell_type": "markdown",
   "metadata": {},
   "source": [
    "### Columns with < 10% missing data"
   ]
  },
  {
   "cell_type": "code",
   "execution_count": 11,
   "metadata": {},
   "outputs": [
    {
     "name": "stdout",
     "output_type": "stream",
     "text": [
      "Q5 0.8749189889825016 135\n",
      "Q8 0.49254698639014904 76\n",
      "Q10 1.8924173687621517 292\n"
     ]
    }
   ],
   "source": [
    "missingvalue = Salaries.isnull().sum()\n",
    "for col in missingvalue.index:\n",
    "    per_miss = missingvalue[col]/Salaries.shape[0] * 100\n",
    "    if per_miss > 0:\n",
    "        print(col, per_miss, missingvalue[col])"
   ]
  },
  {
   "cell_type": "markdown",
   "metadata": {},
   "source": [
    "#### Q5 - 'Which best describes your undergraduate major?'\n",
    "There are 135 NaN values. This is because all the respondents have no formal education past high school, as shown by the corresponding Q4 columns."
   ]
  },
  {
   "cell_type": "code",
   "execution_count": 12,
   "metadata": {},
   "outputs": [
    {
     "data": {
      "text/plain": [
       "[<matplotlib.text.Text at 0x7fb040850860>]"
      ]
     },
     "execution_count": 12,
     "metadata": {},
     "output_type": "execute_result"
    },
    {
     "data": {
      "image/png": "[encoded data removed]",
      "text/plain": [
       "<matplotlib.figure.Figure at 0x7fb040831e48>"
      ]
     },
     "metadata": {},
     "output_type": "display_data"
    }
   ],
   "source": [
    "q5_null = Salaries[Salaries['Q5'].isnull()]\n",
    "ax = sns.countplot(x='Q4', data=q5_null)\n",
    "ax.set_xticklabels(ax.get_xticklabels(),rotation=30)"
   ]
  },
  {
   "cell_type": "markdown",
   "metadata": {},
   "source": [
    "Thus, for these NaN values, I will be creating a new category 'N/A' to replace these NaN values.\n",
    "Changing these NaNs to 'N/A' will not affect the result as later when the data is one-hot encoded, the column pertaining to the 'N/A' answer will be dropped sinec it will be the complement of the rest of the columns pertaining to the answers of this questions."
   ]
  },
  {
   "cell_type": "code",
   "execution_count": 13,
   "metadata": {
    "collapsed": true
   },
   "outputs": [],
   "source": [
    "Salaries['Q5'] = Salaries['Q5'].replace(to_replace = np.NaN, value = 'N/A')"
   ]
  },
  {
   "cell_type": "markdown",
   "metadata": {},
   "source": [
    "#### Q8 - 'How many years of experience do you have in your current role?'\n",
    "There are 76 NaN values. Most of the respondents with NaN values are students, which can explain why they didn't answer the question."
   ]
  },
  {
   "cell_type": "code",
   "execution_count": 14,
   "metadata": {},
   "outputs": [
    {
     "data": {
      "text/plain": [
       "[<matplotlib.text.Text at 0x7fb040fe97b8>,\n",
       " <matplotlib.text.Text at 0x7fb040f6c278>,\n",
       " <matplotlib.text.Text at 0x7fb040f409e8>,\n",
       " <matplotlib.text.Text at 0x7fb040f46438>,\n",
       " <matplotlib.text.Text at 0x7fb040f46e48>,\n",
       " <matplotlib.text.Text at 0x7fb040f4a898>,\n",
       " <matplotlib.text.Text at 0x7fb040f4d2e8>,\n",
       " <matplotlib.text.Text at 0x7fb040f4dcf8>]"
      ]
     },
     "execution_count": 14,
     "metadata": {},
     "output_type": "execute_result"
    },
    {
     "data": {
      "image/png": "[encoded data removed]",
      "text/plain": [
       "<matplotlib.figure.Figure at 0x7fb040fcc4a8>"
      ]
     },
     "metadata": {},
     "output_type": "display_data"
    }
   ],
   "source": [
    "q8_null = Salaries[Salaries['Q8'].isnull()]\n",
    "ax = sns.countplot(x='Q6', data=q8_null)\n",
    "ax.set_xticklabels(ax.get_xticklabels(),rotation=30)"
   ]
  },
  {
   "cell_type": "code",
   "execution_count": 15,
   "metadata": {},
   "outputs": [
    {
     "data": {
      "text/plain": [
       "0-1     3879\n",
       "1-2     2826\n",
       "5-10    1973\n",
       "2-3     1965\n",
       "3-4     1308\n",
       "Name: Q8, dtype: int64"
      ]
     },
     "execution_count": 15,
     "metadata": {},
     "output_type": "execute_result"
    }
   ],
   "source": [
    "Salaries.Q8.value_counts().head()"
   ]
  },
  {
   "cell_type": "markdown",
   "metadata": {},
   "source": [
    "Thus, for the NaNs in the 'Q8' column, I will be replacing them with '0-1' since most of the corresponding respondents will not have had any experience. '0-1' is also the mode of the column so the mode of the dataset will not change."
   ]
  },
  {
   "cell_type": "code",
   "execution_count": 16,
   "metadata": {},
   "outputs": [],
   "source": [
    "Salaries['Q8'] = Salaries['Q8'].replace(to_replace = np.NaN, value = Salaries.Q8.value_counts().index[0])"
   ]
  },
  {
   "cell_type": "markdown",
   "metadata": {},
   "source": [
    "#### Q10 - 'Does your current employer incorporate machine learning methods into their business?'\n",
    "There are 292 NaN values.\n",
    "The respondents coresponding to these NaN values are for the most part students, but there are also people working fields such as Computers/Technology and Acadmeic/Education that have left this field blank."
   ]
  },
  {
   "cell_type": "code",
   "execution_count": 17,
   "metadata": {},
   "outputs": [
    {
     "data": {
      "text/plain": [
       "[<matplotlib.text.Text at 0x7fb040f04438>,\n",
       " <matplotlib.text.Text at 0x7fb040efef98>,\n",
       " <matplotlib.text.Text at 0x7fb040e727b8>,\n",
       " <matplotlib.text.Text at 0x7fb040e76208>,\n",
       " <matplotlib.text.Text at 0x7fb040e76c18>,\n",
       " <matplotlib.text.Text at 0x7fb040e7b668>,\n",
       " <matplotlib.text.Text at 0x7fb040e7e0b8>,\n",
       " <matplotlib.text.Text at 0x7fb040e7eac8>,\n",
       " <matplotlib.text.Text at 0x7fb040e82518>,\n",
       " <matplotlib.text.Text at 0x7fb040e82f28>,\n",
       " <matplotlib.text.Text at 0x7fb040e86978>,\n",
       " <matplotlib.text.Text at 0x7fb040e8a3c8>,\n",
       " <matplotlib.text.Text at 0x7fb040e8add8>,\n",
       " <matplotlib.text.Text at 0x7fb040e90828>,\n",
       " <matplotlib.text.Text at 0x7fb040e93278>,\n",
       " <matplotlib.text.Text at 0x7fb040e93c88>,\n",
       " <matplotlib.text.Text at 0x7fb040e976d8>,\n",
       " <matplotlib.text.Text at 0x7fb040e9b128>]"
      ]
     },
     "execution_count": 17,
     "metadata": {},
     "output_type": "execute_result"
    },
    {
     "data": {
      "image/png": "[encoded data removed]",
      "text/plain": [
       "<matplotlib.figure.Figure at 0x7fb040f66198>"
      ]
     },
     "metadata": {},
     "output_type": "display_data"
    }
   ],
   "source": [
    "q10_null = Salaries[Salaries['Q10'].isnull()]\n",
    "ax = sns.countplot(x='Q7', data=q10_null)\n",
    "ax.set_xticklabels(ax.get_xticklabels(),rotation=90)"
   ]
  },
  {
   "cell_type": "markdown",
   "metadata": {},
   "source": [
    "The null values submitted by students will be changed to a new category 'N/A'. This will not affect the result as later when the data is one-hot encoded, the column pertaining to the 'N/A' answer will be dropped."
   ]
  },
  {
   "cell_type": "code",
   "execution_count": 18,
   "metadata": {
    "collapsed": true
   },
   "outputs": [],
   "source": [
    "Salaries['Q10'] = Salaries[Salaries['Q7'] == 'I am a student'].Q10.replace(to_replace = np.NaN, value = 'N/A')"
   ]
  },
  {
   "cell_type": "code",
   "execution_count": 19,
   "metadata": {},
   "outputs": [
    {
     "data": {
      "text/plain": [
       "I do not know                                                                                779\n",
       "No (we do not use ML methods)                                                                428\n",
       "We are exploring ML methods (and may one day put a model into production)                    408\n",
       "We recently started using ML methods (i.e., models in production for less than 2 years)      228\n",
       "We use ML methods for generating insights (but do not put working models into production)    166\n",
       "Name: Q10, dtype: int64"
      ]
     },
     "execution_count": 19,
     "metadata": {},
     "output_type": "execute_result"
    }
   ],
   "source": [
    "Salaries.Q10.value_counts().head()"
   ]
  },
  {
   "cell_type": "markdown",
   "metadata": {},
   "source": [
    "The respondents with specified positions who had submitted a null value will be dropped since imputing the mode ('We are exploring ML methods (and may one day put a model into production') may lead to less accurate predictions since this answer for the respondents is most likely not correct."
   ]
  },
  {
   "cell_type": "code",
   "execution_count": 20,
   "metadata": {
    "collapsed": true
   },
   "outputs": [],
   "source": [
    "Salaries.dropna(subset=['Q10'],inplace=True) "
   ]
  },
  {
   "cell_type": "markdown",
   "metadata": {},
   "source": [
    "### Final Check"
   ]
  },
  {
   "cell_type": "code",
   "execution_count": 21,
   "metadata": {},
   "outputs": [
    {
     "name": "stdout",
     "output_type": "stream",
     "text": [
      "There are 0 missing values.\n"
     ]
    }
   ],
   "source": [
    "missingvalue = Salaries.isnull().sum()\n",
    "print(\"There are\", missingvalue.sum(), \"missing values.\")"
   ]
  },
  {
   "cell_type": "markdown",
   "metadata": {},
   "source": [
    "Now there are no missing values!"
   ]
  },
  {
   "cell_type": "code",
   "execution_count": 22,
   "metadata": {},
   "outputs": [
    {
     "name": "stdout",
     "output_type": "stream",
     "text": [
      "After cleaning data, the data is of size: (2248, 311)\n"
     ]
    }
   ],
   "source": [
    "print(\"After cleaning data, the data is of size:\", Salaries.shape)"
   ]
  },
  {
   "cell_type": "markdown",
   "metadata": {},
   "source": [
    "### 1.4 Data encoding"
   ]
  },
  {
   "cell_type": "markdown",
   "metadata": {
    "collapsed": true
   },
   "source": [
    "The features will be one hot encoded so that the features are binary values, which will aid in the classification of data through logistic regression.\n",
    "\n",
    "The target column (Q9) pertaining to the salaries of each respondents will be  encoded by turning the columns of categorical data into numerical data with each category represented by the mean amount of salary. In other words, the salary category of 0-10,000 will be set as 5,000 and 10-20,000 to 15,000. This is much like ordinal encoding since it will preserve the order of the data (5000 is less than 15,000), but also the spacing between the data. From 0 to 100,000, the bins increment consistently by 10,000, but from 100,000, the increment changes to 25,000, then to 50,000, and finally to 100,000. Setting the target columns as the mean salary will preserve this change in increments."
   ]
  },
  {
   "cell_type": "markdown",
   "metadata": {},
   "source": [
    "#### One-hot encoding of features"
   ]
  },
  {
   "cell_type": "code",
   "execution_count": 23,
   "metadata": {},
   "outputs": [],
   "source": [
    "Salaries_copy = Salaries.copy()\n",
    "Salaries_copy = Salaries_copy.drop('Q9', axis=1)\n",
    "onehotencoded = pd.get_dummies(Salaries_copy)"
   ]
  },
  {
   "cell_type": "markdown",
   "metadata": {},
   "source": [
    "All columns with 'N/A' will be dropped since these columns are the complement of other columns and does not provide any more information. (Refer to Section 1.3)"
   ]
  },
  {
   "cell_type": "code",
   "execution_count": 24,
   "metadata": {
    "collapsed": true
   },
   "outputs": [],
   "source": [
    "for col in onehotencoded.columns:\n",
    "    if 'N/A' in col:\n",
    "        onehotencoded = onehotencoded.drop(col, axis=1)"
   ]
  },
  {
   "cell_type": "markdown",
   "metadata": {},
   "source": [
    "#### Encoding of targets with mean values"
   ]
  },
  {
   "cell_type": "code",
   "execution_count": 25,
   "metadata": {},
   "outputs": [],
   "source": [
    "target_encode = {'0-10,000': 5000, '10-20,000': 15000, '20-30,000': 25000, '30-40,000': 35000, \n",
    "       '40-50,000': 45000, '50-60,000': 55000, '60-70,000': 65000, '70-80,000': 75000, \n",
    "       '80-90,000': 85000, '90-100,000': 95000, '100-125,000': 112500, \n",
    "       '125-150,000': 137500, '150-200,000': 175000, '200-250,000': 225000, \n",
    "       '250-300,000': 275000, '300-400,000': 350000, '400-500,000': 450000, \n",
    "       '500,000+':500000}\n",
    "\n",
    "encoded = pd.concat([onehotencoded, Salaries['Q9']], axis=1)\n",
    "encoded['Q9'] = encoded['Q9'].apply(lambda x: target_encode[x])"
   ]
  },
  {
   "cell_type": "code",
   "execution_count": 26,
   "metadata": {},
   "outputs": [
    {
     "name": "stdout",
     "output_type": "stream",
     "text": [
      "After encoding data, the data is of size: (2248, 426)\n"
     ]
    }
   ],
   "source": [
    "print(\"After encoding data, the data is of size:\", encoded.shape)"
   ]
  },
  {
   "cell_type": "markdown",
   "metadata": {},
   "source": [
    "## 2. Exploratory data analysis"
   ]
  },
  {
   "cell_type": "markdown",
   "metadata": {},
   "source": [
    "### Changing salaries data from categorical to numeric\n",
    "Visualization of data will be easier with numeric targets, but categorical features. Thus, the targets will be encoded, but the features will be copied from the original categorical data."
   ]
  },
  {
   "cell_type": "code",
   "execution_count": 27,
   "metadata": {
    "collapsed": true
   },
   "outputs": [],
   "source": [
    "int_Salaries = Salaries.copy()\n",
    "int_Salaries['Q9'] = int_Salaries['Q9'].apply(lambda x: target_encode[x])"
   ]
  },
  {
   "cell_type": "code",
   "execution_count": 28,
   "metadata": {},
   "outputs": [
    {
     "data": {
      "text/plain": [
       "0-10,000       1788\n",
       "10-20,000       198\n",
       "20-30,000       105\n",
       "30-40,000        57\n",
       "40-50,000        21\n",
       "50-60,000        13\n",
       "70-80,000        12\n",
       "80-90,000        10\n",
       "100-125,000       8\n",
       "90-100,000        8\n",
       "60-70,000         7\n",
       "125-150,000       6\n",
       "500,000+          6\n",
       "150-200,000       4\n",
       "300-400,000       3\n",
       "200-250,000       2\n",
       "Name: Q9, dtype: int64"
      ]
     },
     "execution_count": 28,
     "metadata": {},
     "output_type": "execute_result"
    }
   ],
   "source": [
    "Salaries['Q9'].value_counts()"
   ]
  },
  {
   "cell_type": "code",
   "execution_count": 29,
   "metadata": {},
   "outputs": [
    {
     "data": {
      "text/plain": [
       "India                       536\n",
       "United States of America    410\n",
       "China                       279\n",
       "Other                        72\n",
       "Brazil                       67\n",
       "Name: Q3, dtype: int64"
      ]
     },
     "execution_count": 29,
     "metadata": {},
     "output_type": "execute_result"
    }
   ],
   "source": [
    "Salaries['Q3'].value_counts().head()"
   ]
  },
  {
   "cell_type": "markdown",
   "metadata": {},
   "source": [
    "One thing to note before visualizing the data is that the majority of the respondents have less than 50K USD salaries, even though the average income of an American is more than 60K USD. This may be because the majority of the respondents are from India or China where the average income is much less (~15K, sourced from Google). Furthermore, the reason they are using Kaggle may be to find a better job by learning more skills, which may be why the majority of salaries is less than 50K USD."
   ]
  },
  {
   "cell_type": "markdown",
   "metadata": {},
   "source": [
    "One feature that most likely shows a trend with salary data is the age. Respondents who are younger are more likely to be students or just starting to work, so they probably have low income. On the other hand, older respondents who have worked for longer and have gained more experience probably have a higher income."
   ]
  },
  {
   "cell_type": "code",
   "execution_count": 30,
   "metadata": {},
   "outputs": [
    {
     "data": {
      "image/png": "[encoded data removed]",
      "text/plain": [
       "<matplotlib.figure.Figure at 0x7fb0434b8550>"
      ]
     },
     "metadata": {},
     "output_type": "display_data"
    }
   ],
   "source": [
    "order = ['18-21', '22-24', '25-29', '30-34','35-39', '40-44', '45-49', '50-54', '55-59', '60-69', '70-79', '80+']\n",
    "\n",
    "plt.figure(figsize=(12,8))\n",
    "boxplot = sns.boxplot(x='Q2', y='Q9', data=int_Salaries, order=order, showfliers=False)\n",
    "ax = boxplot.axes\n",
    "ax.set_ylim([0, 250000])\n",
    "plt.ylabel(\"Yearly Income ($)\", fontsize=14)\n",
    "plt.xlabel(\"Age\", fontsize=14)\n",
    "plt.title(\"Distribution of the Yearly Income for Age Groups\", fontsize=15)\n",
    "plt.show()"
   ]
  },
  {
   "cell_type": "markdown",
   "metadata": {},
   "source": [
    "Plotting income vs age shows, as I expected, higher income for increasing age. However, there a large variance in income from age 50-54 following a  decrease in income from 55+. This is expected since most people are starting to retire or starting and by the time most people are 60, most of them would not be working.\n",
    "\n",
    "This trend can help predict salaries since based on the age, we could predict the income level. Young and old respondents (ages 18-24 and 60+) can be classified as having the lowest salary while middle-aged respondents (30s or 40s) should have higher income."
   ]
  },
  {
   "cell_type": "markdown",
   "metadata": {},
   "source": [
    "Another feature that may show a trend with income is the degree the respondents have attained. It is likely that respondents with higher degrees (e.g. Doctoral) earn more than people without any college degree due to more skillsets and experience."
   ]
  },
  {
   "cell_type": "code",
   "execution_count": 31,
   "metadata": {
    "collapsed": true
   },
   "outputs": [],
   "source": [
    "int_Salaries['Q4'] = int_Salaries['Q4'].replace(to_replace='Some college/university study without earning a bachelor’s degree', value='Some college/university')"
   ]
  },
  {
   "cell_type": "code",
   "execution_count": 32,
   "metadata": {},
   "outputs": [
    {
     "data": {
      "image/png": "[encoded data removed]",
      "text/plain": [
       "<matplotlib.figure.Figure at 0x7fb0434b8160>"
      ]
     },
     "metadata": {},
     "output_type": "display_data"
    }
   ],
   "source": [
    "order = ['Doctoral degree', 'Master’s degree', 'Professional degree', 'Bachelor’s degree',  'Some college/university',\n",
    "        'No formal education past high school', 'I prefer not to answer']\n",
    "plt.figure(figsize=(12,8))\n",
    "sns.barplot(x='Q4', y='Q9', data=int_Salaries, order=order)\n",
    "plt.xticks(rotation=90)\n",
    "plt.ylabel(\"Yearly Income ($)\", fontsize=14)\n",
    "plt.xlabel(\"Degree\", fontsize=12)\n",
    "plt.title(\"Distribution of the Yearly Income for Different Levels of Study\", fontsize=15)\n",
    "plt.show()"
   ]
  },
  {
   "cell_type": "markdown",
   "metadata": {},
   "source": [
    "The respondents who had answered that they had no formal education past high school or that they did not prefer to answer has high variance in the income that they are receiving. This can be because there are anomolies within these groups. For example, they may have created a very successful startup right out of high school, or they may have been lying about their income.\n",
    "\n",
    "Excluding these groups with high number of anomalies, I will be just looking at people who have attained doctorate, master's, bachelor's, or some college/university."
   ]
  },
  {
   "cell_type": "code",
   "execution_count": 33,
   "metadata": {},
   "outputs": [
    {
     "data": {
      "image/png": "[encoded data removed]",
      "text/plain": [
       "<matplotlib.figure.Figure at 0x7fb04330f8d0>"
      ]
     },
     "metadata": {},
     "output_type": "display_data"
    }
   ],
   "source": [
    "order = ['Doctoral degree', 'Master’s degree', 'Professional degree', 'Bachelor’s degree',  'Some college/university']\n",
    "plt.figure(figsize=(12,8))\n",
    "sns.barplot(x='Q4', y='Q9', data=int_Salaries, order=order)\n",
    "plt.xticks(rotation=90)\n",
    "plt.ylabel(\"Yearly Income ($)\", fontsize=14)\n",
    "plt.xlabel(\"Degree\", fontsize=14)\n",
    "plt.title(\"Distribution of the Yearly Income for Different Levels of Study\", fontsize=15)\n",
    "plt.show()"
   ]
  },
  {
   "cell_type": "markdown",
   "metadata": {},
   "source": [
    "This graph shows a clear trend. People who have attained a higher degree earn more. Thus, based on the degree, we are able to predict the range of income that is most likely."
   ]
  },
  {
   "cell_type": "markdown",
   "metadata": {},
   "source": [
    "Where the respondents work can also be an important factor in deciding the income. A country with higher GDP or more expensive living costs is more likely to provide more income than countries with lower GDP or cheaper living expenses. Smaller countries will be grouped by continent to see a more general outlook but big countries like USA, India, and China will be grouped separately."
   ]
  },
  {
   "cell_type": "code",
   "execution_count": 34,
   "metadata": {
    "collapsed": true
   },
   "outputs": [],
   "source": [
    "country_dic = {'Morocco': 'Africa',\n",
    "             'Tunisia': 'Africa',\n",
    "             'Austria': 'Europe',\n",
    "             'Hong Kong (S.A.R.)': 'Asia',\n",
    "             'Republic of Korea': 'Asia',\n",
    "             'Thailand': 'Asia',\n",
    "             'Czech Republic': 'Europe',\n",
    "             'Philippines': 'Asia',\n",
    "             'Romania': 'Europe',\n",
    "             'Kenya': 'Africa',\n",
    "             'Finland': 'Europe',\n",
    "             'Norway': 'Europe',\n",
    "             'Peru': 'South America',\n",
    "             'Iran, Islamic Republic of...': 'Middle East',\n",
    "             'Bangladesh': 'Asia',\n",
    "             'New Zealand': 'Oceania',\n",
    "             'Egypt': 'Africa',\n",
    "             'Chile': 'South America',\n",
    "             'Belarus': 'Europe',\n",
    "             'Hungary': 'Europe',\n",
    "             'Ireland': 'Europe',\n",
    "             'Belgium': 'Europe',\n",
    "             'Malaysia': 'Asia',\n",
    "             'Denmark': 'Europe',\n",
    "             'Greece': 'Europe',\n",
    "             'Pakistan': 'Asia',\n",
    "             'Viet Nam': 'Asia',\n",
    "             'Argentina': 'South America',\n",
    "             'Colombia': 'South America',\n",
    "             'Indonesia': 'Oceania',\n",
    "             'Portugal': 'Europe',\n",
    "             'South Africa': 'Africa',\n",
    "             'South Korea': 'Asia',\n",
    "             'Switzerland': 'Europe',\n",
    "             'Sweden': 'Europe',\n",
    "             'Israel': 'Middle East',\n",
    "             'Nigeria': 'Africa',\n",
    "             'Singapore': 'Asia',\n",
    "             'I do not wish to disclose my location': 'N/A',\n",
    "             'Mexico': 'North America',\n",
    "             'Ukraine': 'Europe',\n",
    "             'Netherlands': 'Europe',\n",
    "             'Turkey': 'Asia',\n",
    "             'Poland': 'Europe',\n",
    "             'Australia': 'Oceania',\n",
    "             'Italy': 'Europe',\n",
    "             'Spain': 'Europe',\n",
    "             'Japan': 'Asia',\n",
    "             'France': 'Europe',\n",
    "             'Canada': 'North America', \n",
    "             'United Kingdom of Great Britain and Northern Ireland': 'UK',\n",
    "             'Germany': 'Europe',\n",
    "             'Brazil': 'South America',\n",
    "             'Russia': 'Russia',\n",
    "             'Other': 'Other',\n",
    "             'China': 'China',\n",
    "             'India': 'India',\n",
    "             'United States of America': 'USA'}"
   ]
  },
  {
   "cell_type": "code",
   "execution_count": 35,
   "metadata": {},
   "outputs": [],
   "source": [
    "int_Salaries['Q3'] = int_Salaries['Q3'].apply(lambda x: country_dic[x])"
   ]
  },
  {
   "cell_type": "code",
   "execution_count": 36,
   "metadata": {},
   "outputs": [
    {
     "data": {
      "image/png": "[encoded data removed]",
      "text/plain": [
       "<matplotlib.figure.Figure at 0x7fb043364b00>"
      ]
     },
     "metadata": {},
     "output_type": "display_data"
    }
   ],
   "source": [
    "plt.figure(figsize=(13,8))\n",
    "sns.barplot(x='Q3', y='Q9', data=int_Salaries, order=int_Salaries.groupby('Q3').Q9.mean().sort_values(ascending=False).index)\n",
    "plt.ylabel(\"Yearly Income ($)\", fontsize=14)\n",
    "plt.xlabel(\"Nationality\", fontsize=14)\n",
    "plt.title(\"Distribution of the Yearly Income for Different Regions\", fontsize=15)\n",
    "plt.show()"
   ]
  },
  {
   "cell_type": "markdown",
   "metadata": {},
   "source": [
    "The graph shows a relationship between income and nationality. Respondents who working USA, North America, and Europe have on average more income than those working in South America, Russia, and Africa. Thus, using nationality data can help predict the range of salary that the respondent is expected to receive."
   ]
  },
  {
   "cell_type": "markdown",
   "metadata": {},
   "source": [
    "### Order of feature importance"
   ]
  },
  {
   "cell_type": "code",
   "execution_count": 37,
   "metadata": {},
   "outputs": [
    {
     "data": {
      "text/plain": [
       "<matplotlib.text.Text at 0x7fb0432c3780>"
      ]
     },
     "execution_count": 37,
     "metadata": {},
     "output_type": "execute_result"
    },
    {
     "data": {
      "image/png": "[encoded data removed]",
      "text/plain": [
       "<matplotlib.figure.Figure at 0x7fb0432aa0b8>"
      ]
     },
     "metadata": {},
     "output_type": "display_data"
    }
   ],
   "source": [
    "pearsoncorr = encoded.corr().apply(lambda x: abs(x))\n",
    "plt.figure()\n",
    "ax = (pearsoncorr.sort_values('Q9', ascending=False)['Q9'][:20].plot(kind=\"barh\",title=\"Pearson correlation\",fontsize=11))\n",
    "ax.set_ylabel('Features',fontsize=11)"
   ]
  },
  {
   "cell_type": "markdown",
   "metadata": {},
   "source": [
    "Using Pearson correlation, we are able to see that years of experience and age correlate with salary the most. This is expected since we saw that there was a trend in income with age, and with age comes experience. We also see a high correlation between salary and nationality, as expected from the trend that I had plotted. Other questions that correlated with the salaries well are Q28, Q29, and Q30, which are different products that respondents have used. This may show a good correlation with income since the respondents who use professional products made by IBM and AWS usually are more experienced, can afford the software, or are employed by these companies and may have higher salaries."
   ]
  },
  {
   "cell_type": "markdown",
   "metadata": {},
   "source": [
    "## 3. Feature selection"
   ]
  },
  {
   "cell_type": "markdown",
   "metadata": {},
   "source": [
    "Feature engineering useful in machine learning because it can improve the algorithm's predictive power and allow for simple models to be fit on complex data. For example, nonlinear data can be transformed into linear data through feature engineering and can allow for simple models such as linear regression to easily and accurately make predictions."
   ]
  },
  {
   "cell_type": "markdown",
   "metadata": {},
   "source": [
    "#### Dividing dataset into X_train, y_train, X_test, and y_test"
   ]
  },
  {
   "cell_type": "code",
   "execution_count": 38,
   "metadata": {},
   "outputs": [],
   "source": [
    "all_X = encoded.drop('Q9', axis=1)\n",
    "all_y = encoded['Q9']\n",
    "X_train, X_test, y_train, y_test = train_test_split(all_X, all_y, test_size=0.3, random_state=1)"
   ]
  },
  {
   "cell_type": "markdown",
   "metadata": {},
   "source": [
    "#### Scaling/Normalizing the data"
   ]
  },
  {
   "cell_type": "markdown",
   "metadata": {},
   "source": [
    "I will be scaling the features to a range which is centered around zero so that the variance of the features are in the same range. This is so that if a feature’s variance is larger than the variance of other features, that particular feature won't dominate other features in the dataset."
   ]
  },
  {
   "cell_type": "code",
   "execution_count": 39,
   "metadata": {},
   "outputs": [],
   "source": [
    "scaler = StandardScaler()\n",
    "\n",
    "X_train_scalar = scaler.fit_transform(X_train)\n",
    "X_test_scalar = scaler.transform(X_test)"
   ]
  },
  {
   "cell_type": "markdown",
   "metadata": {},
   "source": [
    "#### Using Lasso for feature selection"
   ]
  },
  {
   "cell_type": "markdown",
   "metadata": {},
   "source": [
    "Lasso is a regularization method that is used to 'push' weights of features towards zero if they are small enough. Features that have smaller weights have little impact on the classification decision. Thus, these will be set to zero (i.e. these features will be eliminated)."
   ]
  },
  {
   "cell_type": "code",
   "execution_count": 40,
   "metadata": {},
   "outputs": [
    {
     "data": {
      "text/plain": [
       "SelectFromModel(estimator=LassoCV(alphas=None, copy_X=True, cv=5, eps=0.001,\n",
       "                                  fit_intercept=True, max_iter=1000,\n",
       "                                  n_alphas=100, n_jobs=None, normalize=False,\n",
       "                                  positive=False, precompute='auto',\n",
       "                                  random_state=None, selection='cyclic',\n",
       "                                  tol=0.0001, verbose=False),\n",
       "                max_features=None, norm_order=1, prefit=False, threshold=50)"
      ]
     },
     "execution_count": 40,
     "metadata": {},
     "output_type": "execute_result"
    }
   ],
   "source": [
    "clf = LassoCV(cv=5)\n",
    "\n",
    "sfm_1 = SelectFromModel(clf, threshold=1)\n",
    "sfm_1.fit(X_train_scalar, y_train)\n",
    "\n",
    "sfm_5 = SelectFromModel(clf, threshold=5)\n",
    "sfm_5.fit(X_train_scalar, y_train)\n",
    "\n",
    "sfm_10 = SelectFromModel(clf, threshold=10)\n",
    "sfm_10.fit(X_train_scalar, y_train)\n",
    "\n",
    "sfm_50 = SelectFromModel(clf, threshold=50)\n",
    "sfm_50.fit(X_train_scalar, y_train)"
   ]
  },
  {
   "cell_type": "code",
   "execution_count": 41,
   "metadata": {},
   "outputs": [],
   "source": [
    "def get_sel_feat(sfm):\n",
    "    selected_feat = []\n",
    "    for val in range(len(sfm.get_support())):\n",
    "        if sfm.get_support()[val] == True:\n",
    "            print(X_train.columns[val])\n",
    "            selected_feat.append(X_train.columns[val])\n",
    "    return selected_feat"
   ]
  },
  {
   "cell_type": "code",
   "execution_count": 42,
   "metadata": {
    "scrolled": false
   },
   "outputs": [],
   "source": [
    "%%capture\n",
    "feat1 = get_sel_feat(sfm_1)\n",
    "feat5 = get_sel_feat(sfm_5)\n",
    "feat10 = get_sel_feat(sfm_10)\n",
    "feat50 = get_sel_feat(sfm_50)"
   ]
  },
  {
   "cell_type": "markdown",
   "metadata": {},
   "source": [
    "The features are selected based on the threshold applied. These features have an importance (or coefficients) of greater than 1, 5, 10, and 50. Later, the features selected with each of these thresholds will be compared in the model implementation section and the best model will be selected."
   ]
  },
  {
   "cell_type": "code",
   "execution_count": 43,
   "metadata": {},
   "outputs": [
    {
     "name": "stdout",
     "output_type": "stream",
     "text": [
      "57\n",
      "56\n",
      "55\n",
      "45\n"
     ]
    }
   ],
   "source": [
    "print(len(feat1))\n",
    "print(len(feat5))\n",
    "print(len(feat10))\n",
    "print(len(feat50))"
   ]
  },
  {
   "cell_type": "markdown",
   "metadata": {},
   "source": [
    "Since the selected number features isn't very large, I will not reduce the dimensionality using PCA. However, the code below shows that I can reduce the dimensions to 10 features that explains ~60% of the selected data's variance."
   ]
  },
  {
   "cell_type": "markdown",
   "metadata": {},
   "source": [
    "PCA (Principle Component Analysis) is a feature engineering technique that projects the data into a lower dimensional space while keeping most of the information."
   ]
  },
  {
   "cell_type": "code",
   "execution_count": 44,
   "metadata": {},
   "outputs": [
    {
     "name": "stdout",
     "output_type": "stream",
     "text": [
      "Explained Variance:  0.6084492570223776\n"
     ]
    }
   ],
   "source": [
    "PCA_model = PCA(n_components=10).fit(X_train[feat1])\n",
    "X_train_PCA = PCA_model.transform(X_train[feat1])\n",
    "X_test_PCA = PCA_model.transform(X_test[feat1])\n",
    "print(\"Explained Variance: \", PCA_model.explained_variance_ratio_.sum())"
   ]
  },
  {
   "cell_type": "markdown",
   "metadata": {},
   "source": [
    "## 4. Implementing Model"
   ]
  },
  {
   "cell_type": "markdown",
   "metadata": {},
   "source": [
    "### Implementing logistic regression on all features"
   ]
  },
  {
   "cell_type": "markdown",
   "metadata": {},
   "source": [
    "This is the base accuracy that logistic regression is able to attain with no feature selection."
   ]
  },
  {
   "cell_type": "code",
   "execution_count": 45,
   "metadata": {},
   "outputs": [],
   "source": [
    "log_model = LogisticRegression()\n",
    "crossvalidation = KFold(n_splits=10, shuffle=True, random_state=1)"
   ]
  },
  {
   "cell_type": "code",
   "execution_count": 46,
   "metadata": {},
   "outputs": [],
   "source": [
    "# scores = cross_val_score(log_model, X_train, y_train, cv=crossvalidation)\n",
    "# print(scores)\n",
    "# print(\"Average accuracy:\", scores.mean(),\"\\nVariance:\", scores.std() * 2)"
   ]
  },
  {
   "cell_type": "markdown",
   "metadata": {},
   "source": [
    "K-fold accuracies: [0.74050633 0.81012658 0.78481013 0.76433121 0.72611465 0.78980892 0.75159236 0.74522293 0.80254777 0.82165605]\n",
    "\n",
    "Average accuracy: 0.7736716923325002 \n",
    "\n",
    "Variance: 0.06195303929064368"
   ]
  },
  {
   "cell_type": "markdown",
   "metadata": {},
   "source": [
    "### Using features from Lasso"
   ]
  },
  {
   "cell_type": "code",
   "execution_count": 47,
   "metadata": {},
   "outputs": [],
   "source": [
    "# scores1 = cross_val_score(log_model, X_train[feat1], y_train, cv=crossvalidation)\n",
    "# print(scores1)\n",
    "# print(\"Average accuracy:\", scores1.mean(),\"\\nVariance:\", scores1.std() * 2)"
   ]
  },
  {
   "cell_type": "markdown",
   "metadata": {},
   "source": [
    "K-fold accuracies: [0.79113924 0.82278481 0.79746835 0.78343949 0.7388535  0.8343949 0.78343949 0.75796178 0.82802548 0.85350318]\n",
    "\n",
    "Average accuracy: 0.7991010239458196 \n",
    "\n",
    "Variance: 0.06776908612867882"
   ]
  },
  {
   "cell_type": "code",
   "execution_count": 48,
   "metadata": {},
   "outputs": [],
   "source": [
    "# scores5 = cross_val_score(log_model, X_train[feat5], y_train, cv=crossvalidation)\n",
    "# print(scores5)\n",
    "# print(\"Average accuracy:\", scores5.mean(),\"\\nVariance:\", scores5.std() * 2)"
   ]
  },
  {
   "cell_type": "markdown",
   "metadata": {},
   "source": [
    "K-fold accuracies: [0.79746835 0.82278481 0.79113924 0.78343949 0.74522293 0.82802548 0.78343949 0.76433121 0.82802548 0.85350318]\n",
    " \n",
    "Average accuracy: 0.7997379666209788 \n",
    "\n",
    "Variance: 0.06279528563880767"
   ]
  },
  {
   "cell_type": "code",
   "execution_count": 49,
   "metadata": {},
   "outputs": [],
   "source": [
    "# scores10 = cross_val_score(log_model, X_train[feat10], y_train, cv=crossvalidation)\n",
    "# print(scores10)\n",
    "# print(\"Average accuracy:\", scores10.mean(),\"\\nVariance:\", scores10.std() * 2)"
   ]
  },
  {
   "cell_type": "markdown",
   "metadata": {},
   "source": [
    "K-fold accuracies: [0.79746835 0.82278481 0.78481013 0.78343949 0.73248408 0.82165605 0.78343949 0.76433121 0.82165605 0.84076433]\n",
    " \n",
    "Average accuracy: 0.7952833991776183 \n",
    "\n",
    "Variance: 0.06168529504817857"
   ]
  },
  {
   "cell_type": "code",
   "execution_count": 50,
   "metadata": {},
   "outputs": [],
   "source": [
    "# scores50 = cross_val_score(log_model, X_train[feat50], y_train, cv=crossvalidation)\n",
    "# print(scores50)\n",
    "# print(\"Average accuracy:\", scores50.mean(),\"\\nVariance:\", scores50.std() * 2)"
   ]
  },
  {
   "cell_type": "markdown",
   "metadata": {},
   "source": [
    "K-fold accuracies: [0.77848101 0.82278481 0.81012658 0.79617834 0.73248408 0.82802548 0.78980892 0.76433121 0.82165605 0.84713376]\n",
    " \n",
    "Average accuracy: 0.7991010239458196 \n",
    "\n",
    "Variance: 0.06481299032253841"
   ]
  },
  {
   "cell_type": "markdown",
   "metadata": {},
   "source": [
    "The accuracy across the folds changes in no particular manner (doesn't continuously increase or decrease).\n",
    "This is because during cross-validation 9 subsets are the training data are used to train and 1 subset to validate, and the accuracy depends on if the data of the 9 subsets led to overfitting or underfitting. High accuracies were a result of good bias-variance tradeoff (only little overfitting or underfitting).\n",
    "\n",
    "The best model with the highest accuracy was Lasso with a threshold of 5. The accuracies of Lasso with threshold of less than 5 were lower most likely since with more features, there is overfitting (or high variance) which is a result of the model capturing nuances of the training data that is not present in the testing data. On the other hand, accuracies of Lasso with threshold of greater than 5 were lower most likely since with less features, there is underfitting (or high bias) which is a result of the model not being able to capture the noise of the data well enough to generalize to new data well."
   ]
  },
  {
   "cell_type": "markdown",
   "metadata": {},
   "source": [
    "## 5. Model tuning"
   ]
  },
  {
   "cell_type": "markdown",
   "metadata": {},
   "source": [
    "To tune the hyperparameters (L1 and L2) and different regularization values (C), I will do a grid search.\n",
    "Although Lasso has already been applied, it could be applied further to select even fewer features."
   ]
  },
  {
   "cell_type": "markdown",
   "metadata": {},
   "source": [
    "I will be using the F1-score to evaluate the best model. The F1-score takes into consideration both the precision and recall, which is ideal for predicting salary data since neither false negatives nor false positives is worse than the other. Since there are more data points for one salary bin (i.e. 0-10,000) than other bins, I will be using weighted F1 scoring for grid search so that each bin's contribution to the average is weighted by the relative number of examples available for it."
   ]
  },
  {
   "cell_type": "markdown",
   "metadata": {},
   "source": [
    "Let's first see the F1-score without any tuning."
   ]
  },
  {
   "cell_type": "code",
   "execution_count": 51,
   "metadata": {},
   "outputs": [
    {
     "name": "stdout",
     "output_type": "stream",
     "text": [
      "              precision    recall  f1-score   support\n",
      "\n",
      "        5000       0.84      0.99      0.91      1249\n",
      "       15000       0.31      0.09      0.14       141\n",
      "       25000       0.51      0.26      0.34        77\n",
      "       35000       0.43      0.08      0.13        38\n",
      "       45000       0.00      0.00      0.00        15\n",
      "       55000       1.00      0.18      0.31        11\n",
      "       65000       0.00      0.00      0.00         4\n",
      "       75000       1.00      0.30      0.46        10\n",
      "       85000       0.00      0.00      0.00         6\n",
      "       95000       0.00      0.00      0.00         4\n",
      "      112500       0.00      0.00      0.00         4\n",
      "      137500       0.00      0.00      0.00         4\n",
      "      175000       1.00      1.00      1.00         1\n",
      "      225000       0.00      0.00      0.00         1\n",
      "      350000       0.00      0.00      0.00         2\n",
      "      500000       1.00      0.33      0.50         6\n",
      "\n",
      "    accuracy                           0.81      1573\n",
      "   macro avg       0.38      0.20      0.24      1573\n",
      "weighted avg       0.75      0.81      0.76      1573\n",
      "\n"
     ]
    }
   ],
   "source": [
    "clf = LogisticRegression()\n",
    "clf.fit(X_train[feat5], y_train)\n",
    "y_pred = clf.predict(X_train[feat5])\n",
    "print(classification_report(y_train,y_pred))"
   ]
  },
  {
   "cell_type": "code",
   "execution_count": 52,
   "metadata": {},
   "outputs": [],
   "source": [
    "C = np.linspace(1, 100, 100)\n",
    "# clf = LogisticRegression()\n",
    "# grid_values = {'penalty': ['l1', 'l2'],'C':C}\n",
    "# grid_clf_acc = GridSearchCV(clf, param_grid = grid_values,scoring = 'f1_weighted', cv = 10, verbose=True, n_jobs=-1)\n",
    "# grid_clf_acc.fit(X_train[feat5], y_train)\n",
    "# y_pred_acc = grid_clf_acc.predict(X_train[feat5])\n",
    "# print(grid_clf_acc.best_params_)"
   ]
  },
  {
   "cell_type": "markdown",
   "metadata": {},
   "source": [
    "From grid search, the best parameters are C=96 with L2 penalty."
   ]
  },
  {
   "cell_type": "code",
   "execution_count": 53,
   "metadata": {},
   "outputs": [],
   "source": [
    "best_model = LogisticRegression(penalty='l2', C=96)\n",
    "best_model.fit(X_train[feat5], y_train)\n",
    "y_pred_acc = best_model.predict(X_train[feat5])"
   ]
  },
  {
   "cell_type": "code",
   "execution_count": 54,
   "metadata": {},
   "outputs": [
    {
     "data": {
      "text/html": [
       "<div>\n",
       "<style scoped>\n",
       "    .dataframe tbody tr th:only-of-type {\n",
       "        vertical-align: middle;\n",
       "    }\n",
       "\n",
       "    .dataframe tbody tr th {\n",
       "        vertical-align: top;\n",
       "    }\n",
       "\n",
       "    .dataframe thead th {\n",
       "        text-align: right;\n",
       "    }\n",
       "</style>\n",
       "<table border=\"1\" class=\"dataframe\">\n",
       "  <thead>\n",
       "    <tr style=\"text-align: right;\">\n",
       "      <th></th>\n",
       "      <th>5000</th>\n",
       "      <th>15000</th>\n",
       "      <th>25000</th>\n",
       "      <th>35000</th>\n",
       "      <th>45000</th>\n",
       "      <th>55000</th>\n",
       "      <th>65000</th>\n",
       "      <th>75000</th>\n",
       "      <th>85000</th>\n",
       "      <th>95000</th>\n",
       "      <th>112500</th>\n",
       "      <th>137500</th>\n",
       "      <th>175000</th>\n",
       "      <th>225000</th>\n",
       "      <th>350000</th>\n",
       "      <th>500000</th>\n",
       "    </tr>\n",
       "  </thead>\n",
       "  <tbody>\n",
       "    <tr>\n",
       "      <th>0</th>\n",
       "      <td>0.663428</td>\n",
       "      <td>0.178644</td>\n",
       "      <td>0.113695</td>\n",
       "      <td>0.033410</td>\n",
       "      <td>0.010307</td>\n",
       "      <td>3.057623e-08</td>\n",
       "      <td>1.905147e-11</td>\n",
       "      <td>2.553862e-04</td>\n",
       "      <td>2.534621e-09</td>\n",
       "      <td>1.703736e-05</td>\n",
       "      <td>1.074394e-07</td>\n",
       "      <td>3.052153e-08</td>\n",
       "      <td>0.000159</td>\n",
       "      <td>0.000026</td>\n",
       "      <td>5.275538e-05</td>\n",
       "      <td>4.545012e-06</td>\n",
       "    </tr>\n",
       "    <tr>\n",
       "      <th>1</th>\n",
       "      <td>0.831539</td>\n",
       "      <td>0.121137</td>\n",
       "      <td>0.006627</td>\n",
       "      <td>0.028847</td>\n",
       "      <td>0.008294</td>\n",
       "      <td>3.512585e-03</td>\n",
       "      <td>5.921122e-08</td>\n",
       "      <td>7.216395e-06</td>\n",
       "      <td>7.303606e-08</td>\n",
       "      <td>1.464720e-07</td>\n",
       "      <td>1.108516e-07</td>\n",
       "      <td>2.227293e-11</td>\n",
       "      <td>0.000009</td>\n",
       "      <td>0.000027</td>\n",
       "      <td>1.721149e-10</td>\n",
       "      <td>4.798393e-08</td>\n",
       "    </tr>\n",
       "    <tr>\n",
       "      <th>2</th>\n",
       "      <td>0.871990</td>\n",
       "      <td>0.067964</td>\n",
       "      <td>0.026653</td>\n",
       "      <td>0.003686</td>\n",
       "      <td>0.000034</td>\n",
       "      <td>2.952511e-02</td>\n",
       "      <td>8.939142e-08</td>\n",
       "      <td>2.038879e-11</td>\n",
       "      <td>4.006851e-06</td>\n",
       "      <td>1.403847e-05</td>\n",
       "      <td>1.912158e-06</td>\n",
       "      <td>5.959458e-05</td>\n",
       "      <td>0.000053</td>\n",
       "      <td>0.000015</td>\n",
       "      <td>4.241585e-09</td>\n",
       "      <td>2.303960e-07</td>\n",
       "    </tr>\n",
       "    <tr>\n",
       "      <th>3</th>\n",
       "      <td>0.010854</td>\n",
       "      <td>0.345690</td>\n",
       "      <td>0.011732</td>\n",
       "      <td>0.007491</td>\n",
       "      <td>0.000934</td>\n",
       "      <td>2.016750e-03</td>\n",
       "      <td>8.848416e-04</td>\n",
       "      <td>1.588940e-05</td>\n",
       "      <td>1.391675e-02</td>\n",
       "      <td>6.056324e-01</td>\n",
       "      <td>4.390682e-05</td>\n",
       "      <td>5.301195e-05</td>\n",
       "      <td>0.000029</td>\n",
       "      <td>0.000046</td>\n",
       "      <td>1.111871e-08</td>\n",
       "      <td>6.612309e-04</td>\n",
       "    </tr>\n",
       "    <tr>\n",
       "      <th>4</th>\n",
       "      <td>0.948041</td>\n",
       "      <td>0.036531</td>\n",
       "      <td>0.012947</td>\n",
       "      <td>0.002265</td>\n",
       "      <td>0.000036</td>\n",
       "      <td>1.559755e-04</td>\n",
       "      <td>2.659202e-10</td>\n",
       "      <td>3.872945e-07</td>\n",
       "      <td>4.609244e-09</td>\n",
       "      <td>2.884716e-07</td>\n",
       "      <td>1.339346e-07</td>\n",
       "      <td>1.473481e-13</td>\n",
       "      <td>0.000003</td>\n",
       "      <td>0.000013</td>\n",
       "      <td>9.496107e-07</td>\n",
       "      <td>5.679081e-06</td>\n",
       "    </tr>\n",
       "  </tbody>\n",
       "</table>\n",
       "</div>"
      ],
      "text/plain": [
       "     5000      15000     25000     35000     45000         55000   \\\n",
       "0  0.663428  0.178644  0.113695  0.033410  0.010307  3.057623e-08   \n",
       "1  0.831539  0.121137  0.006627  0.028847  0.008294  3.512585e-03   \n",
       "2  0.871990  0.067964  0.026653  0.003686  0.000034  2.952511e-02   \n",
       "3  0.010854  0.345690  0.011732  0.007491  0.000934  2.016750e-03   \n",
       "4  0.948041  0.036531  0.012947  0.002265  0.000036  1.559755e-04   \n",
       "\n",
       "         65000         75000         85000         95000         112500  \\\n",
       "0  1.905147e-11  2.553862e-04  2.534621e-09  1.703736e-05  1.074394e-07   \n",
       "1  5.921122e-08  7.216395e-06  7.303606e-08  1.464720e-07  1.108516e-07   \n",
       "2  8.939142e-08  2.038879e-11  4.006851e-06  1.403847e-05  1.912158e-06   \n",
       "3  8.848416e-04  1.588940e-05  1.391675e-02  6.056324e-01  4.390682e-05   \n",
       "4  2.659202e-10  3.872945e-07  4.609244e-09  2.884716e-07  1.339346e-07   \n",
       "\n",
       "         137500    175000    225000        350000        500000  \n",
       "0  3.052153e-08  0.000159  0.000026  5.275538e-05  4.545012e-06  \n",
       "1  2.227293e-11  0.000009  0.000027  1.721149e-10  4.798393e-08  \n",
       "2  5.959458e-05  0.000053  0.000015  4.241585e-09  2.303960e-07  \n",
       "3  5.301195e-05  0.000029  0.000046  1.111871e-08  6.612309e-04  \n",
       "4  1.473481e-13  0.000003  0.000013  9.496107e-07  5.679081e-06  "
      ]
     },
     "execution_count": 54,
     "metadata": {},
     "output_type": "execute_result"
    }
   ],
   "source": [
    "predicted_prob = pd.DataFrame(best_model.predict_proba(X_train[feat5]), columns=np.sort(y_train.unique()))\n",
    "predicted_prob.head()"
   ]
  },
  {
   "cell_type": "markdown",
   "metadata": {},
   "source": [
    "predicted_prob is the output of the prediction that represents the probabilities of belonging to each of the salary ranges."
   ]
  },
  {
   "cell_type": "code",
   "execution_count": 55,
   "metadata": {},
   "outputs": [
    {
     "name": "stdout",
     "output_type": "stream",
     "text": [
      "              precision    recall  f1-score   support\n",
      "\n",
      "        5000       0.85      0.99      0.92      1249\n",
      "       15000       0.45      0.14      0.22       141\n",
      "       25000       0.56      0.29      0.38        77\n",
      "       35000       0.64      0.18      0.29        38\n",
      "       45000       1.00      0.13      0.24        15\n",
      "       55000       1.00      0.27      0.43        11\n",
      "       65000       1.00      1.00      1.00         4\n",
      "       75000       1.00      0.60      0.75        10\n",
      "       85000       1.00      0.67      0.80         6\n",
      "       95000       1.00      0.25      0.40         4\n",
      "      112500       1.00      1.00      1.00         4\n",
      "      137500       1.00      0.75      0.86         4\n",
      "      175000       1.00      1.00      1.00         1\n",
      "      225000       1.00      1.00      1.00         1\n",
      "      350000       1.00      0.50      0.67         2\n",
      "      500000       1.00      0.83      0.91         6\n",
      "\n",
      "    accuracy                           0.84      1573\n",
      "   macro avg       0.91      0.60      0.68      1573\n",
      "weighted avg       0.80      0.84      0.80      1573\n",
      "\n"
     ]
    }
   ],
   "source": [
    "print(classification_report(y_train,y_pred_acc))"
   ]
  },
  {
   "cell_type": "markdown",
   "metadata": {},
   "source": [
    "Grid search has successfully helped find better hyperparameteres that ultimately increased the F1-score overall when compared to the F1-score before tuning."
   ]
  },
  {
   "cell_type": "code",
   "execution_count": 56,
   "metadata": {},
   "outputs": [],
   "source": [
    "cm = confusion_matrix(y_train,y_pred_acc,labels=np.sort(y_train.unique()))"
   ]
  },
  {
   "cell_type": "code",
   "execution_count": 57,
   "metadata": {},
   "outputs": [
    {
     "data": {
      "image/png": "[encoded data removed]",
      "text/plain": [
       "<matplotlib.figure.Figure at 0x7fb0432dc550>"
      ]
     },
     "metadata": {},
     "output_type": "display_data"
    }
   ],
   "source": [
    "plt.figure(figsize=(15,15))\n",
    "plt.imshow(cm, interpolation='nearest', cmap=plt.cm.Blues)\n",
    "plt.title('Confusion Matrix', fontsize=15)\n",
    "plt.colorbar()\n",
    "tick_marks = np.arange(len(y_train.unique()))\n",
    "plt.xticks(tick_marks, np.sort(y_train.unique()), rotation=45, fontsize=10)\n",
    "plt.yticks(tick_marks, np.sort(y_train.unique()), fontsize=10)\n",
    "plt.xlabel('Predicted Label', fontsize=15)\n",
    "plt.ylabel('True Label', fontsize=15)\n",
    "\n",
    "for i in range(len(cm)):\n",
    "    for j in range(len(cm[i])):\n",
    "        color = 'black'   \n",
    "        if cm[i][j] > 200:\n",
    "            color = 'white'\n",
    "        plt.text(j, i, format(cm[i][j]), \n",
    "                horizontalalignment='center',\n",
    "                color=color, fontsize=15)"
   ]
  },
  {
   "cell_type": "markdown",
   "metadata": {},
   "source": [
    "The confusion matrix shows that for the most part the model is predicting accurately, but most of the error lies in predicting 5000 (the lowest salary range). This is most likely because the majority of the target salaries is 5000 so 5000 is the most likely prediction the model makes, which contributes to the most error."
   ]
  },
  {
   "cell_type": "markdown",
   "metadata": {},
   "source": [
    "### 6. Testing"
   ]
  },
  {
   "cell_type": "code",
   "execution_count": 58,
   "metadata": {},
   "outputs": [
    {
     "data": {
      "text/plain": [
       "LogisticRegression(C=96, class_weight=None, dual=False, fit_intercept=True,\n",
       "                   intercept_scaling=1, l1_ratio=None, max_iter=100,\n",
       "                   multi_class='warn', n_jobs=None, penalty='l2',\n",
       "                   random_state=None, solver='warn', tol=0.0001, verbose=0,\n",
       "                   warm_start=False)"
      ]
     },
     "execution_count": 58,
     "metadata": {},
     "output_type": "execute_result"
    }
   ],
   "source": [
    "best_model = LogisticRegression(penalty='l2', C=96)\n",
    "best_model.fit(X_train[feat5], y_train)"
   ]
  },
  {
   "cell_type": "code",
   "execution_count": 59,
   "metadata": {},
   "outputs": [],
   "source": [
    "predicted_prob = pd.DataFrame(best_model.predict_proba(X_test[feat5]))"
   ]
  },
  {
   "cell_type": "code",
   "execution_count": 60,
   "metadata": {},
   "outputs": [
    {
     "data": {
      "text/html": [
       "<div>\n",
       "<style scoped>\n",
       "    .dataframe tbody tr th:only-of-type {\n",
       "        vertical-align: middle;\n",
       "    }\n",
       "\n",
       "    .dataframe tbody tr th {\n",
       "        vertical-align: top;\n",
       "    }\n",
       "\n",
       "    .dataframe thead th {\n",
       "        text-align: right;\n",
       "    }\n",
       "</style>\n",
       "<table border=\"1\" class=\"dataframe\">\n",
       "  <thead>\n",
       "    <tr style=\"text-align: right;\">\n",
       "      <th></th>\n",
       "      <th>0</th>\n",
       "      <th>1</th>\n",
       "      <th>2</th>\n",
       "      <th>3</th>\n",
       "      <th>4</th>\n",
       "      <th>5</th>\n",
       "      <th>6</th>\n",
       "      <th>7</th>\n",
       "      <th>8</th>\n",
       "      <th>9</th>\n",
       "      <th>10</th>\n",
       "      <th>11</th>\n",
       "      <th>12</th>\n",
       "      <th>13</th>\n",
       "      <th>14</th>\n",
       "      <th>15</th>\n",
       "    </tr>\n",
       "  </thead>\n",
       "  <tbody>\n",
       "    <tr>\n",
       "      <th>0</th>\n",
       "      <td>0.958852</td>\n",
       "      <td>0.027782</td>\n",
       "      <td>0.007412</td>\n",
       "      <td>0.001191</td>\n",
       "      <td>0.000671</td>\n",
       "      <td>5.744016e-06</td>\n",
       "      <td>8.559985e-07</td>\n",
       "      <td>3.836059e-05</td>\n",
       "      <td>0.000002</td>\n",
       "      <td>1.217029e-03</td>\n",
       "      <td>1.631735e-06</td>\n",
       "      <td>2.223040e-04</td>\n",
       "      <td>0.000036</td>\n",
       "      <td>4.458621e-05</td>\n",
       "      <td>2.511497e-05</td>\n",
       "      <td>2.498800e-03</td>\n",
       "    </tr>\n",
       "    <tr>\n",
       "      <th>1</th>\n",
       "      <td>0.834340</td>\n",
       "      <td>0.164190</td>\n",
       "      <td>0.000951</td>\n",
       "      <td>0.000017</td>\n",
       "      <td>0.000444</td>\n",
       "      <td>1.028987e-05</td>\n",
       "      <td>3.113322e-05</td>\n",
       "      <td>4.808128e-11</td>\n",
       "      <td>0.000004</td>\n",
       "      <td>7.346543e-11</td>\n",
       "      <td>1.472030e-07</td>\n",
       "      <td>2.566923e-09</td>\n",
       "      <td>0.000003</td>\n",
       "      <td>8.925194e-06</td>\n",
       "      <td>3.079609e-12</td>\n",
       "      <td>2.215961e-09</td>\n",
       "    </tr>\n",
       "    <tr>\n",
       "      <th>2</th>\n",
       "      <td>0.976077</td>\n",
       "      <td>0.016218</td>\n",
       "      <td>0.002506</td>\n",
       "      <td>0.000002</td>\n",
       "      <td>0.001355</td>\n",
       "      <td>4.069306e-07</td>\n",
       "      <td>6.119408e-08</td>\n",
       "      <td>4.684774e-08</td>\n",
       "      <td>0.000065</td>\n",
       "      <td>3.390009e-04</td>\n",
       "      <td>1.545564e-10</td>\n",
       "      <td>8.560752e-07</td>\n",
       "      <td>0.000001</td>\n",
       "      <td>4.923946e-07</td>\n",
       "      <td>4.530719e-07</td>\n",
       "      <td>3.435967e-03</td>\n",
       "    </tr>\n",
       "    <tr>\n",
       "      <th>3</th>\n",
       "      <td>0.873084</td>\n",
       "      <td>0.072244</td>\n",
       "      <td>0.023845</td>\n",
       "      <td>0.009539</td>\n",
       "      <td>0.007520</td>\n",
       "      <td>8.663156e-03</td>\n",
       "      <td>4.248195e-08</td>\n",
       "      <td>2.098446e-06</td>\n",
       "      <td>0.000072</td>\n",
       "      <td>4.814008e-03</td>\n",
       "      <td>9.125111e-07</td>\n",
       "      <td>4.276823e-05</td>\n",
       "      <td>0.000072</td>\n",
       "      <td>8.275566e-05</td>\n",
       "      <td>3.695540e-08</td>\n",
       "      <td>1.617170e-05</td>\n",
       "    </tr>\n",
       "    <tr>\n",
       "      <th>4</th>\n",
       "      <td>0.941650</td>\n",
       "      <td>0.054505</td>\n",
       "      <td>0.000359</td>\n",
       "      <td>0.000355</td>\n",
       "      <td>0.002921</td>\n",
       "      <td>7.424395e-09</td>\n",
       "      <td>2.287826e-08</td>\n",
       "      <td>3.289600e-05</td>\n",
       "      <td>0.000009</td>\n",
       "      <td>4.361846e-06</td>\n",
       "      <td>1.128792e-08</td>\n",
       "      <td>1.230848e-04</td>\n",
       "      <td>0.000015</td>\n",
       "      <td>4.581011e-06</td>\n",
       "      <td>1.330777e-06</td>\n",
       "      <td>2.027324e-05</td>\n",
       "    </tr>\n",
       "  </tbody>\n",
       "</table>\n",
       "</div>"
      ],
      "text/plain": [
       "         0         1         2         3         4             5   \\\n",
       "0  0.958852  0.027782  0.007412  0.001191  0.000671  5.744016e-06   \n",
       "1  0.834340  0.164190  0.000951  0.000017  0.000444  1.028987e-05   \n",
       "2  0.976077  0.016218  0.002506  0.000002  0.001355  4.069306e-07   \n",
       "3  0.873084  0.072244  0.023845  0.009539  0.007520  8.663156e-03   \n",
       "4  0.941650  0.054505  0.000359  0.000355  0.002921  7.424395e-09   \n",
       "\n",
       "             6             7         8             9             10  \\\n",
       "0  8.559985e-07  3.836059e-05  0.000002  1.217029e-03  1.631735e-06   \n",
       "1  3.113322e-05  4.808128e-11  0.000004  7.346543e-11  1.472030e-07   \n",
       "2  6.119408e-08  4.684774e-08  0.000065  3.390009e-04  1.545564e-10   \n",
       "3  4.248195e-08  2.098446e-06  0.000072  4.814008e-03  9.125111e-07   \n",
       "4  2.287826e-08  3.289600e-05  0.000009  4.361846e-06  1.128792e-08   \n",
       "\n",
       "             11        12            13            14            15  \n",
       "0  2.223040e-04  0.000036  4.458621e-05  2.511497e-05  2.498800e-03  \n",
       "1  2.566923e-09  0.000003  8.925194e-06  3.079609e-12  2.215961e-09  \n",
       "2  8.560752e-07  0.000001  4.923946e-07  4.530719e-07  3.435967e-03  \n",
       "3  4.276823e-05  0.000072  8.275566e-05  3.695540e-08  1.617170e-05  \n",
       "4  1.230848e-04  0.000015  4.581011e-06  1.330777e-06  2.027324e-05  "
      ]
     },
     "execution_count": 60,
     "metadata": {},
     "output_type": "execute_result"
    }
   ],
   "source": [
    "predicted_prob.head()"
   ]
  },
  {
   "cell_type": "code",
   "execution_count": 61,
   "metadata": {},
   "outputs": [
    {
     "name": "stdout",
     "output_type": "stream",
     "text": [
      "Logistic regression Train Accuracy ::  0.8372536554354736\n",
      "Logistic regression Test Accuracy ::  0.7955555555555556\n"
     ]
    }
   ],
   "source": [
    "print(\"Logistic regression Train Accuracy :: \", metrics.accuracy_score(y_train, best_model.predict(X_train[feat5])))\n",
    "print(\"Logistic regression Test Accuracy :: \", metrics.accuracy_score(y_test, best_model.predict(X_test[feat5])))"
   ]
  },
  {
   "cell_type": "markdown",
   "metadata": {},
   "source": [
    "Since the train accuracy is greater than the test accuracy, the model is overfitting."
   ]
  },
  {
   "cell_type": "code",
   "execution_count": 62,
   "metadata": {},
   "outputs": [],
   "source": [
    "training_acc = []\n",
    "test_acc = []\n",
    "for parameter in C:\n",
    "    model = LogisticRegression(penalty='l2', C=parameter)\n",
    "    model.fit(X_train[feat5], y_train)\n",
    "    training_acc.append(metrics.accuracy_score(y_train, model.predict(X_train[feat5])))\n",
    "    test_acc.append(metrics.accuracy_score(y_test, model.predict(X_test[feat5])))"
   ]
  },
  {
   "cell_type": "code",
   "execution_count": 63,
   "metadata": {},
   "outputs": [
    {
     "data": {
      "image/png": "[encoded data removed]",
      "text/plain": [
       "<matplotlib.figure.Figure at 0x7fb042ea4470>"
      ]
     },
     "metadata": {},
     "output_type": "display_data"
    }
   ],
   "source": [
    "fig=plt.figure(figsize=(5,5))\n",
    "fig.show()\n",
    "ax=fig.add_subplot(111)\n",
    "\n",
    "ax.plot(C,training_acc,c='b',label='Training accuracy')\n",
    "ax.plot(C,test_acc,c='g', label='Testing accuracy')\n",
    "plt.xlabel('C', fontsize=14)\n",
    "plt.ylabel('Accuracy',fontsize=14)\n",
    "plt.legend(loc=7)\n",
    "plt.draw()"
   ]
  },
  {
   "cell_type": "code",
   "execution_count": null,
   "metadata": {
    "collapsed": true
   },
   "outputs": [],
   "source": []
  },
  {
   "cell_type": "markdown",
   "metadata": {},
   "source": [
    "Plotting for testing and training accuracies over different C values, you can see that both the testing and training accuracy saturates for large values of C. You can also see that for small values of C, training and testing accuracies are similar, meaning that there is minimal bias-variance tradeoff so the model doesn't underfit or overfit too much. This would have given the best testing accuracy since there is lower generalization error. Larger values of C for L2 regularization lead to higher training accuracy since the model overfits. Overfitting leads to lower testing accuracies since the model cannot generalize and captures noise in the training data that is not present in the testing data."
   ]
  }
 ],
 "metadata": {
  "kernelspec": {
   "display_name": "Python 3",
   "language": "python",
   "name": "python3"
  },
  "language_info": {
   "codemirror_mode": {
    "name": "ipython",
    "version": 3
   },
   "file_extension": ".py",
   "mimetype": "text/x-python",
   "name": "python",
   "nbconvert_exporter": "python",
   "pygments_lexer": "ipython3",
   "version": "3.7.3"
  },
  "widgets": {
   "state": {},
   "version": "1.1.2"
  }
 },
 "nbformat": 4,
 "nbformat_minor": 1
}
